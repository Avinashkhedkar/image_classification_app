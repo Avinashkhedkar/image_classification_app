{
 "cells": [
  {
   "cell_type": "markdown",
   "id": "ea9cf06a",
   "metadata": {},
   "source": [
    "## Import liabraries"
   ]
  },
  {
   "cell_type": "code",
   "execution_count": null,
   "id": "9d639d35",
   "metadata": {},
   "outputs": [],
   "source": [
    "from sklearn import svm\n",
    "from sklearn.model_selection import train_test_split\n",
    "from skimage import data,color,exposure\n",
    "import cv2\n",
    "import matplotlib.pyplot as plt\n",
    "import os\n",
    "import cv2\n",
    "from sklearn import svm\n",
    "from sklearn.model_selection import train_test_split\n",
    "from skimage import color\n",
    "import numpy as np\n",
    "import pandas as pd\n",
    "import joblib"
   ]
  },
  {
   "cell_type": "code",
   "execution_count": null,
   "id": "e2b967bc",
   "metadata": {},
   "outputs": [],
   "source": [
    "# Import liabraries\n",
    "\n",
    "\n",
    "def extract_features(image):\n",
    "    \n",
    "    hist = cv2.calcHist([image], [0], None, [256], [0, 256])\n",
    "    hist = hist.flatten()\n",
    "\n",
    "    edges = cv2.Canny(image, 100, 200)\n",
    "    edges_sum = np.sum(edges)\n",
    "\n",
    "    features = np.hstack((hist, edges_sum))\n",
    "    return features\n",
    "\n",
    "## Load and preprocess the data\n",
    "\n",
    "def load_data(data_dir):\n",
    "    images = []\n",
    "    labels = []\n",
    "    for label in os.listdir(data_dir):\n",
    "        class_dir = os.path.join(data_dir, label)\n",
    "        if os.path.isdir(class_dir):\n",
    "            for file in os.listdir(class_dir):\n",
    "                file_path = os.path.join(class_dir, file)\n",
    "                \n",
    "                image = cv2.imread(file_path, cv2.IMREAD_GRAYSCALE)\n",
    "                if image is not None:\n",
    "                    features = extract_features(image)\n",
    "                    images.append(features)\n",
    "                    labels.append(label)\n",
    "    return np.array(images), np.array(labels)\n",
    "\n",
    "data_dir = 'dataset_full'\n",
    "X, y = load_data(data_dir)\n",
    "\n",
    "print(X, y)\n",
    "\n",
    "# Split data to train and test\n",
    "\n",
    "X_train, X_test, y_train, y_test = train_test_split(X, y, test_size=0.2, random_state=42)\n",
    "\n",
    "\n",
    "# Train the SVM model\n",
    "\n",
    "svm_model = SVC(kernel='linear', probability=True)\n",
    "svm_model.fit(X_train, y_train)\n",
    "\n",
    "# Evaluate the model\n",
    "\n",
    "y_pred = svm_model.predict(X_test)\n",
    "print(confusion_matrix(y_test, y_pred))\n",
    "print(classification_report(y_test, y_pred))\n",
    "\n",
    "# Save the model\n",
    "\n",
    "joblib.dump(svm_model, 'svm_model.pkl')\n"
   ]
  },
  {
   "cell_type": "markdown",
   "id": "21e74f73",
   "metadata": {},
   "source": [
    "## Flask app to upload the image and classify it"
   ]
  },
  {
   "cell_type": "code",
   "execution_count": null,
   "id": "010c29c0",
   "metadata": {},
   "outputs": [],
   "source": [
    "# Flask app\n",
    "\n",
    "\n",
    "from flask import Flask, request, jsonify, render_template\n",
    "import joblib\n",
    "import cv2\n",
    "\n",
    "app = Flask(__name__)\n",
    "model = joblib.load('model.pkl') \n",
    "\n",
    "@app.route('/')\n",
    "def home():\n",
    "    return render_template('index.html')\n",
    "\n",
    "@app.route('/predict', methods=['POST'])\n",
    "def predict():\n",
    "    file = request.files['file']\n",
    "    img = cv2.imdecode(np.frombuffer(file.read(), np.uint8), cv2.IMREAD_GRAYSCALE)\n",
    "    features = extract_features(img) \n",
    "    prediction = model.predict([features])\n",
    "    return jsonify({'prediction': int(prediction[0])})\n",
    "\n",
    "if __name__ == \"__main__\":\n",
    "    app.run(debug=True)\n"
   ]
  },
  {
   "cell_type": "code",
   "execution_count": null,
   "id": "8490f03a",
   "metadata": {},
   "outputs": [],
   "source": []
  },
  {
   "cell_type": "code",
   "execution_count": null,
   "id": "ba41222c",
   "metadata": {},
   "outputs": [],
   "source": []
  },
  {
   "cell_type": "code",
   "execution_count": null,
   "id": "68a600b9",
   "metadata": {},
   "outputs": [],
   "source": []
  },
  {
   "cell_type": "code",
   "execution_count": null,
   "id": "34191ff2",
   "metadata": {},
   "outputs": [],
   "source": []
  },
  {
   "cell_type": "code",
   "execution_count": null,
   "id": "5656521c",
   "metadata": {},
   "outputs": [],
   "source": []
  },
  {
   "cell_type": "code",
   "execution_count": null,
   "id": "08669dc9",
   "metadata": {},
   "outputs": [],
   "source": []
  },
  {
   "cell_type": "code",
   "execution_count": null,
   "id": "3046a92d",
   "metadata": {},
   "outputs": [],
   "source": []
  },
  {
   "cell_type": "code",
   "execution_count": null,
   "id": "17d2aa91",
   "metadata": {},
   "outputs": [],
   "source": []
  }
 ],
 "metadata": {
  "kernelspec": {
   "display_name": "Python 3 (ipykernel)",
   "language": "python",
   "name": "python3"
  },
  "language_info": {
   "codemirror_mode": {
    "name": "ipython",
    "version": 3
   },
   "file_extension": ".py",
   "mimetype": "text/x-python",
   "name": "python",
   "nbconvert_exporter": "python",
   "pygments_lexer": "ipython3",
   "version": "3.9.7"
  }
 },
 "nbformat": 4,
 "nbformat_minor": 5
}
